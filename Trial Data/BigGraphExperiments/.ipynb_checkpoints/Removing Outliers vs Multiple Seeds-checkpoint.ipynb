{
 "cells": [
  {
   "cell_type": "code",
   "execution_count": 6,
   "metadata": {
    "collapsed": true
   },
   "outputs": [],
   "source": [
    "import pandas as pd\n",
    "import plotly\n",
    "import matplotlib.pyplot as mp\n",
    "import plotly.plotly as py \n",
    "import plotly.graph_objs as go\n",
    "import numpy as np\n",
    "from plotly.graph_objs import *\n",
    "import plotly.figure_factory as FF"
   ]
  },
  {
   "cell_type": "code",
   "execution_count": 55,
   "metadata": {
    "collapsed": true
   },
   "outputs": [],
   "source": [
    "oneCallTrial3 = pd.read_csv('../1milData/randComparison/triFree20-1call-trial3.csv', sep=',')"
   ]
  },
  {
   "cell_type": "code",
   "execution_count": 49,
   "metadata": {},
   "outputs": [],
   "source": [
    "noDiseaseSpreadFilter = oneCallTrial3['NumInfected'] == 1"
   ]
  },
  {
   "cell_type": "code",
   "execution_count": 25,
   "metadata": {},
   "outputs": [
    {
     "data": {
      "text/html": [
       "<div>\n",
       "<style>\n",
       "    .dataframe thead tr:only-child th {\n",
       "        text-align: right;\n",
       "    }\n",
       "\n",
       "    .dataframe thead th {\n",
       "        text-align: left;\n",
       "    }\n",
       "\n",
       "    .dataframe tbody tr th {\n",
       "        vertical-align: top;\n",
       "    }\n",
       "</style>\n",
       "<table border=\"1\" class=\"dataframe\">\n",
       "  <thead>\n",
       "    <tr style=\"text-align: right;\">\n",
       "      <th></th>\n",
       "      <th>NumNodes</th>\n",
       "      <th>GroupSize</th>\n",
       "      <th>AvgDeg</th>\n",
       "      <th>InfRate</th>\n",
       "      <th>NumInfected</th>\n",
       "    </tr>\n",
       "  </thead>\n",
       "  <tbody>\n",
       "    <tr>\n",
       "      <th>521</th>\n",
       "      <td>1000000</td>\n",
       "      <td>30</td>\n",
       "      <td>20</td>\n",
       "      <td>1700</td>\n",
       "      <td>1</td>\n",
       "    </tr>\n",
       "    <tr>\n",
       "      <th>535</th>\n",
       "      <td>1000000</td>\n",
       "      <td>30</td>\n",
       "      <td>20</td>\n",
       "      <td>1700</td>\n",
       "      <td>1</td>\n",
       "    </tr>\n",
       "    <tr>\n",
       "      <th>568</th>\n",
       "      <td>1000000</td>\n",
       "      <td>30</td>\n",
       "      <td>20</td>\n",
       "      <td>1800</td>\n",
       "      <td>1</td>\n",
       "    </tr>\n",
       "    <tr>\n",
       "      <th>577</th>\n",
       "      <td>1000000</td>\n",
       "      <td>30</td>\n",
       "      <td>20</td>\n",
       "      <td>1900</td>\n",
       "      <td>1</td>\n",
       "    </tr>\n",
       "    <tr>\n",
       "      <th>580</th>\n",
       "      <td>1000000</td>\n",
       "      <td>30</td>\n",
       "      <td>20</td>\n",
       "      <td>1900</td>\n",
       "      <td>1</td>\n",
       "    </tr>\n",
       "  </tbody>\n",
       "</table>\n",
       "</div>"
      ],
      "text/plain": [
       "     NumNodes  GroupSize  AvgDeg  InfRate  NumInfected\n",
       "521   1000000         30      20     1700            1\n",
       "535   1000000         30      20     1700            1\n",
       "568   1000000         30      20     1800            1\n",
       "577   1000000         30      20     1900            1\n",
       "580   1000000         30      20     1900            1"
      ]
     },
     "execution_count": 25,
     "metadata": {},
     "output_type": "execute_result"
    }
   ],
   "source": [
    "noDiseaseSpread = oneCallTrial3[noDiseaseSpreadFilter]\n",
    "noDiseaseSpread.tail()"
   ]
  },
  {
   "cell_type": "code",
   "execution_count": 50,
   "metadata": {},
   "outputs": [
    {
     "data": {
      "text/html": [
       "<div>\n",
       "<style>\n",
       "    .dataframe thead tr:only-child th {\n",
       "        text-align: right;\n",
       "    }\n",
       "\n",
       "    .dataframe thead th {\n",
       "        text-align: left;\n",
       "    }\n",
       "\n",
       "    .dataframe tbody tr th {\n",
       "        vertical-align: top;\n",
       "    }\n",
       "</style>\n",
       "<table border=\"1\" class=\"dataframe\">\n",
       "  <thead>\n",
       "    <tr style=\"text-align: right;\">\n",
       "      <th></th>\n",
       "      <th>NumNodes</th>\n",
       "      <th>GroupSize</th>\n",
       "      <th>AvgDeg</th>\n",
       "      <th>InfRate</th>\n",
       "      <th>NumInfected</th>\n",
       "      <th>PortionInf</th>\n",
       "    </tr>\n",
       "  </thead>\n",
       "  <tbody>\n",
       "    <tr>\n",
       "      <th>1225</th>\n",
       "      <td>1000000</td>\n",
       "      <td>30</td>\n",
       "      <td>20</td>\n",
       "      <td>0.4</td>\n",
       "      <td>999934</td>\n",
       "      <td>0.999934</td>\n",
       "    </tr>\n",
       "    <tr>\n",
       "      <th>1226</th>\n",
       "      <td>1000000</td>\n",
       "      <td>30</td>\n",
       "      <td>20</td>\n",
       "      <td>0.4</td>\n",
       "      <td>999955</td>\n",
       "      <td>0.999955</td>\n",
       "    </tr>\n",
       "    <tr>\n",
       "      <th>1227</th>\n",
       "      <td>1000000</td>\n",
       "      <td>30</td>\n",
       "      <td>20</td>\n",
       "      <td>0.4</td>\n",
       "      <td>999944</td>\n",
       "      <td>0.999944</td>\n",
       "    </tr>\n",
       "    <tr>\n",
       "      <th>1228</th>\n",
       "      <td>1000000</td>\n",
       "      <td>30</td>\n",
       "      <td>20</td>\n",
       "      <td>0.4</td>\n",
       "      <td>999948</td>\n",
       "      <td>0.999948</td>\n",
       "    </tr>\n",
       "    <tr>\n",
       "      <th>1229</th>\n",
       "      <td>1000000</td>\n",
       "      <td>30</td>\n",
       "      <td>20</td>\n",
       "      <td>0.4</td>\n",
       "      <td>999951</td>\n",
       "      <td>0.999951</td>\n",
       "    </tr>\n",
       "  </tbody>\n",
       "</table>\n",
       "</div>"
      ],
      "text/plain": [
       "      NumNodes  GroupSize  AvgDeg  InfRate  NumInfected  PortionInf\n",
       "1225   1000000         30      20      0.4       999934    0.999934\n",
       "1226   1000000         30      20      0.4       999955    0.999955\n",
       "1227   1000000         30      20      0.4       999944    0.999944\n",
       "1228   1000000         30      20      0.4       999948    0.999948\n",
       "1229   1000000         30      20      0.4       999951    0.999951"
      ]
     },
     "execution_count": 50,
     "metadata": {},
     "output_type": "execute_result"
    }
   ],
   "source": [
    "oneCallTrial3['PortionInf'] = oneCallTrial3['NumInfected']/oneCallTrial3['NumNodes']\n",
    "oneCallTrial3['InfRate'] =oneCallTrial3['InfRate']/10000\n",
    "oneCallTrial3.tail()"
   ]
  },
  {
   "cell_type": "code",
   "execution_count": 51,
   "metadata": {},
   "outputs": [
    {
     "data": {
      "text/plain": [
       "<pandas.core.groupby.DataFrameGroupBy object at 0x0000026820A8AFD0>"
      ]
     },
     "execution_count": 51,
     "metadata": {},
     "output_type": "execute_result"
    }
   ],
   "source": [
    "oneCallTrial3= oneCallTrial3[['InfRate', 'NumInfected']]\n",
    "oneCallTrial3 = oneCallTrial3.groupby('InfRate')\n",
    "oneCallTrial3"
   ]
  },
  {
   "cell_type": "code",
   "execution_count": null,
   "metadata": {},
   "outputs": [],
   "source": []
  },
  {
   "cell_type": "code",
   "execution_count": null,
   "metadata": {
    "collapsed": true
   },
   "outputs": [],
   "source": []
  }
 ],
 "metadata": {
  "kernelspec": {
   "display_name": "Python 3",
   "language": "python",
   "name": "python3"
  },
  "language_info": {
   "codemirror_mode": {
    "name": "ipython",
    "version": 3
   },
   "file_extension": ".py",
   "mimetype": "text/x-python",
   "name": "python",
   "nbconvert_exporter": "python",
   "pygments_lexer": "ipython3",
   "version": "3.6.1"
  }
 },
 "nbformat": 4,
 "nbformat_minor": 2
}
